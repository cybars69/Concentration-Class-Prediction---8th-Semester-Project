{
 "cells": [
  {
   "cell_type": "code",
   "execution_count": 1,
   "metadata": {},
   "outputs": [],
   "source": [
    "import pandas as pd\n",
    "import numpy as np"
   ]
  },
  {
   "cell_type": "code",
   "execution_count": 2,
   "metadata": {},
   "outputs": [],
   "source": [
    "def stats(row):\n",
    "    dat = np.array(row)[1:]\n",
    "    return np.median(dat), np.mean(dat), np.std(dat)\n"
   ]
  },
  {
   "cell_type": "code",
   "execution_count": 3,
   "metadata": {},
   "outputs": [],
   "source": [
    "sheets_to_use = [\"NEG T1\", \"POS T#1\", \"NEG T2\",\n",
    "                 \"POS T#2\", \"NEG T3\", \"POS T#3\", \"NEG T4\", \"POS T#4\", \"NEG T5\", \"POS T#5\", \"NEG T6\", \"POS T#6\", \"NEG T7\", \"POS T#7\"]\n",
    "\n",
    "Data = pd.read_excel(\"./DATASET#1_DELTA_R.xlsx\", sheets_to_use)\n",
    "\n",
    "for k in Data:\n",
    "    Data[k].drop([0], inplace=True)\n",
    "    Data[k] = Data[k].iloc[:, :-1]\n",
    "    temp = Data[k]\n",
    "    temp[[\"median\", \"mean\", \"std\"]] = temp.apply(stats, axis=1).apply(pd.Series)\n",
    "    # temp[[\"median\", \"mean\", \"std\", \"var\"]] = temp.apply(stats, axis=1).apply(pd.Series)\n",
    "    Data[k] = temp\n",
    "    # break\n",
    "\n",
    "for k in Data:\n",
    "    Data[k][\"t_value\"] = int(k[-1:])\n",
    "\n",
    "\n",
    "overall_data = pd.DataFrame(columns=Data[sheets_to_use[0]].columns)\n",
    "\n",
    "for sheet in sheets_to_use:\n",
    "    overall_data = pd.concat([overall_data, Data[sheet]])\n",
    "\n",
    "overall_data.reset_index(inplace=True)\n",
    "overall_data.drop(columns=[\"index\"], inplace=True)\n",
    "\n",
    "Data = overall_data\n",
    "Data = Data.astype(float)\n",
    "Data[\"t_value\"] = Data[\"t_value\"].astype(int)\n",
    "# Data[\"t_value\"] = Data[\"t_value\"] - 1\n",
    "\n",
    "\n",
    "Data = Data.loc[:, ~Data.columns.str.startswith('D')]\n"
   ]
  },
  {
   "cell_type": "code",
   "execution_count": 7,
   "metadata": {},
   "outputs": [],
   "source": [
    "Data.to_csv(\"processed_data.csv\", index=False)\n"
   ]
  }
 ],
 "metadata": {
  "kernelspec": {
   "display_name": "aiml",
   "language": "python",
   "name": "python3"
  },
  "language_info": {
   "codemirror_mode": {
    "name": "ipython",
    "version": 3
   },
   "file_extension": ".py",
   "mimetype": "text/x-python",
   "name": "python",
   "nbconvert_exporter": "python",
   "pygments_lexer": "ipython3",
   "version": "3.10.6"
  },
  "orig_nbformat": 4
 },
 "nbformat": 4,
 "nbformat_minor": 2
}
