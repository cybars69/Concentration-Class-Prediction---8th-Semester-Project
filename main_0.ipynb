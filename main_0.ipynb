{
 "cells": [
  {
   "cell_type": "code",
   "execution_count": 1,
   "metadata": {},
   "outputs": [
    {
     "name": "stderr",
     "output_type": "stream",
     "text": [
      "2023-05-04 21:39:04.688582: I tensorflow/tsl/cuda/cudart_stub.cc:28] Could not find cuda drivers on your machine, GPU will not be used.\n",
      "2023-05-04 21:39:05.005338: I tensorflow/tsl/cuda/cudart_stub.cc:28] Could not find cuda drivers on your machine, GPU will not be used.\n",
      "2023-05-04 21:39:05.007321: I tensorflow/core/platform/cpu_feature_guard.cc:182] This TensorFlow binary is optimized to use available CPU instructions in performance-critical operations.\n",
      "To enable the following instructions: AVX2 FMA, in other operations, rebuild TensorFlow with the appropriate compiler flags.\n",
      "2023-05-04 21:39:06.426542: W tensorflow/compiler/tf2tensorrt/utils/py_utils.cc:38] TF-TRT Warning: Could not find TensorRT\n"
     ]
    }
   ],
   "source": [
    "import tensorflow as tf\n",
    "from tensorflow.keras.layers import Input, Dense, Conv1D, MaxPooling1D, Flatten, LSTM, Concatenate, Reshape, Dropout\n",
    "from tensorflow.keras.models import Model\n",
    "\n",
    "from sklearn.model_selection import train_test_split\n",
    "from sklearn.preprocessing import StandardScaler\n",
    "\n",
    "import matplotlib.pyplot as plt\n",
    "\n",
    "import pandas as pd\n",
    "import numpy as np\n"
   ]
  },
  {
   "cell_type": "code",
   "execution_count": 12,
   "metadata": {},
   "outputs": [],
   "source": [
    "sheets_to_use = [\"NEG T1\", \"POS T#1\", \"NEG T2\",\n",
    "                 \"POS T#2\", \"NEG T3\", \"POS T#3\", \"NEG T4\", \"POS T#4\", \"NEG T5\", \"POS T#5\", \"NEG T6\", \"POS T#6\", \"NEG T7\", \"POS T#7\"]\n",
    "\n",
    "Data = pd.read_excel(\"./DATASET#1_DELTA_R.xlsx\", sheets_to_use)\n",
    "\n",
    "for k in Data:\n",
    "    Data[k].drop([0], inplace=True)\n",
    "    Data[k] = Data[k].iloc[:, :-1]\n",
    "    Data[k] = Data[k].iloc[:, :9]\n",
    "    Data[k][\"t_value\"] = k[-1:]\n",
    "\n",
    "\n",
    "overall_data = pd.DataFrame(columns=Data[sheets_to_use[0]].columns)\n",
    "\n",
    "for sheet in sheets_to_use:\n",
    "    overall_data = pd.concat([overall_data, Data[sheet]])\n",
    "\n",
    "overall_data.reset_index(inplace=True)\n",
    "overall_data.drop(columns=[\"index\"], inplace=True)\n",
    "\n",
    "Data = overall_data\n",
    "Data = Data.astype(float)\n",
    "Data[\"t_value\"] = Data[\"t_value\"].astype(np.int32)\n"
   ]
  },
  {
   "cell_type": "code",
   "execution_count": 26,
   "metadata": {},
   "outputs": [
    {
     "data": {
      "text/html": [
       "<div>\n",
       "<style scoped>\n",
       "    .dataframe tbody tr th:only-of-type {\n",
       "        vertical-align: middle;\n",
       "    }\n",
       "\n",
       "    .dataframe tbody tr th {\n",
       "        vertical-align: top;\n",
       "    }\n",
       "\n",
       "    .dataframe thead th {\n",
       "        text-align: right;\n",
       "    }\n",
       "</style>\n",
       "<table border=\"1\" class=\"dataframe\">\n",
       "  <thead>\n",
       "    <tr style=\"text-align: right;\">\n",
       "      <th></th>\n",
       "      <th>C1E1</th>\n",
       "      <th>D1</th>\n",
       "      <th>D2</th>\n",
       "      <th>D3</th>\n",
       "      <th>D4</th>\n",
       "      <th>D5</th>\n",
       "      <th>D6</th>\n",
       "      <th>D7</th>\n",
       "      <th>D8</th>\n",
       "      <th>t_value</th>\n",
       "    </tr>\n",
       "  </thead>\n",
       "  <tbody>\n",
       "    <tr>\n",
       "      <th>count</th>\n",
       "      <td>5.600000e+03</td>\n",
       "      <td>5600.000000</td>\n",
       "      <td>5600.000000</td>\n",
       "      <td>5600.000000</td>\n",
       "      <td>5600.000000</td>\n",
       "      <td>5600.000000</td>\n",
       "      <td>5600.000000</td>\n",
       "      <td>5600.000000</td>\n",
       "      <td>5600.000000</td>\n",
       "      <td>5600.000000</td>\n",
       "    </tr>\n",
       "    <tr>\n",
       "      <th>mean</th>\n",
       "      <td>-3.045183e-17</td>\n",
       "      <td>9.495709</td>\n",
       "      <td>10.107385</td>\n",
       "      <td>10.008595</td>\n",
       "      <td>10.298424</td>\n",
       "      <td>9.454771</td>\n",
       "      <td>9.685283</td>\n",
       "      <td>11.758435</td>\n",
       "      <td>10.520664</td>\n",
       "      <td>4.000000</td>\n",
       "    </tr>\n",
       "    <tr>\n",
       "      <th>std</th>\n",
       "      <td>1.156969e+00</td>\n",
       "      <td>38.103488</td>\n",
       "      <td>47.005986</td>\n",
       "      <td>105.780338</td>\n",
       "      <td>92.588271</td>\n",
       "      <td>48.796601</td>\n",
       "      <td>42.265536</td>\n",
       "      <td>197.875578</td>\n",
       "      <td>55.373723</td>\n",
       "      <td>2.000179</td>\n",
       "    </tr>\n",
       "    <tr>\n",
       "      <th>min</th>\n",
       "      <td>-2.000000e+00</td>\n",
       "      <td>-0.984601</td>\n",
       "      <td>-0.984392</td>\n",
       "      <td>-0.985755</td>\n",
       "      <td>-0.991968</td>\n",
       "      <td>-0.993070</td>\n",
       "      <td>-0.997210</td>\n",
       "      <td>-0.997719</td>\n",
       "      <td>-0.996934</td>\n",
       "      <td>1.000000</td>\n",
       "    </tr>\n",
       "    <tr>\n",
       "      <th>25%</th>\n",
       "      <td>-1.001250e+00</td>\n",
       "      <td>1.594694</td>\n",
       "      <td>1.505533</td>\n",
       "      <td>1.442995</td>\n",
       "      <td>1.414018</td>\n",
       "      <td>1.330955</td>\n",
       "      <td>1.299645</td>\n",
       "      <td>1.225710</td>\n",
       "      <td>1.218982</td>\n",
       "      <td>2.000000</td>\n",
       "    </tr>\n",
       "    <tr>\n",
       "      <th>50%</th>\n",
       "      <td>0.000000e+00</td>\n",
       "      <td>5.232884</td>\n",
       "      <td>5.443610</td>\n",
       "      <td>5.114236</td>\n",
       "      <td>5.100593</td>\n",
       "      <td>4.888961</td>\n",
       "      <td>5.180690</td>\n",
       "      <td>5.048326</td>\n",
       "      <td>5.196186</td>\n",
       "      <td>4.000000</td>\n",
       "    </tr>\n",
       "    <tr>\n",
       "      <th>75%</th>\n",
       "      <td>1.001250e+00</td>\n",
       "      <td>12.011073</td>\n",
       "      <td>12.019581</td>\n",
       "      <td>11.503779</td>\n",
       "      <td>11.237823</td>\n",
       "      <td>11.084891</td>\n",
       "      <td>11.131094</td>\n",
       "      <td>10.224442</td>\n",
       "      <td>11.681039</td>\n",
       "      <td>6.000000</td>\n",
       "    </tr>\n",
       "    <tr>\n",
       "      <th>max</th>\n",
       "      <td>2.000000e+00</td>\n",
       "      <td>2084.711728</td>\n",
       "      <td>2319.363679</td>\n",
       "      <td>7795.677893</td>\n",
       "      <td>6622.079165</td>\n",
       "      <td>3108.034147</td>\n",
       "      <td>2369.982223</td>\n",
       "      <td>14650.226035</td>\n",
       "      <td>3223.120927</td>\n",
       "      <td>7.000000</td>\n",
       "    </tr>\n",
       "  </tbody>\n",
       "</table>\n",
       "</div>"
      ],
      "text/plain": [
       "               C1E1           D1           D2           D3           D4   \n",
       "count  5.600000e+03  5600.000000  5600.000000  5600.000000  5600.000000  \\\n",
       "mean  -3.045183e-17     9.495709    10.107385    10.008595    10.298424   \n",
       "std    1.156969e+00    38.103488    47.005986   105.780338    92.588271   \n",
       "min   -2.000000e+00    -0.984601    -0.984392    -0.985755    -0.991968   \n",
       "25%   -1.001250e+00     1.594694     1.505533     1.442995     1.414018   \n",
       "50%    0.000000e+00     5.232884     5.443610     5.114236     5.100593   \n",
       "75%    1.001250e+00    12.011073    12.019581    11.503779    11.237823   \n",
       "max    2.000000e+00  2084.711728  2319.363679  7795.677893  6622.079165   \n",
       "\n",
       "                D5           D6            D7           D8      t_value  \n",
       "count  5600.000000  5600.000000   5600.000000  5600.000000  5600.000000  \n",
       "mean      9.454771     9.685283     11.758435    10.520664     4.000000  \n",
       "std      48.796601    42.265536    197.875578    55.373723     2.000179  \n",
       "min      -0.993070    -0.997210     -0.997719    -0.996934     1.000000  \n",
       "25%       1.330955     1.299645      1.225710     1.218982     2.000000  \n",
       "50%       4.888961     5.180690      5.048326     5.196186     4.000000  \n",
       "75%      11.084891    11.131094     10.224442    11.681039     6.000000  \n",
       "max    3108.034147  2369.982223  14650.226035  3223.120927     7.000000  "
      ]
     },
     "execution_count": 26,
     "metadata": {},
     "output_type": "execute_result"
    }
   ],
   "source": [
    "Data.describe()\n"
   ]
  },
  {
   "cell_type": "code",
   "execution_count": 36,
   "metadata": {},
   "outputs": [],
   "source": [
    "# data = pd.get_dummies(Data)\n",
    "data = Data\n",
    "data.fillna(data.mean(), inplace=True)\n",
    "\n",
    "scaler = StandardScaler()\n",
    "data[data.select_dtypes(include=['float64', 'int64']).columns] = scaler.fit_transform(\n",
    "    data[data.select_dtypes(include=['float64', 'int64']).columns])\n",
    "\n",
    "# Split data into training and testing sets\n",
    "train_data, forward_data = train_test_split(data, test_size=0.2)\n",
    "test_data, val_data = train_test_split(forward_data, test_size=0.5)\n"
   ]
  },
  {
   "cell_type": "code",
   "execution_count": 37,
   "metadata": {},
   "outputs": [],
   "source": [
    "# Split features and target variables\n",
    "train_labels = train_data['t_value']\n",
    "test_labels = test_data['t_value']\n",
    "val_labels = test_data['t_value']\n",
    "\n",
    "train_features = train_data.drop(['t_value',\n",
    "                             't_value'], axis=1)\n",
    "test_features = test_data.drop(['t_value',\n",
    "                           't_value'], axis=1)\n",
    "val_features = val_data.drop(['t_value',\n",
    "                          't_value'], axis=1)\n"
   ]
  },
  {
   "cell_type": "code",
   "execution_count": 38,
   "metadata": {},
   "outputs": [
    {
     "data": {
      "text/plain": [
       "([(4480, 9), (4480,)], [(560, 9), (560,)], [(560, 9), (560,)])"
      ]
     },
     "execution_count": 38,
     "metadata": {},
     "output_type": "execute_result"
    }
   ],
   "source": [
    "[train_features.shape, train_labels.shape], [test_features.shape,\n",
    "                                         test_labels.shape], [val_features.shape, val_labels.shape]\n"
   ]
  },
  {
   "cell_type": "code",
   "execution_count": null,
   "metadata": {},
   "outputs": [],
   "source": [
    "# Define the TensorFlow model using Keras\n",
    "model = tf.keras.Sequential([\n",
    "    tf.keras.layers.Dense(32, activation=\"relu\", input_shape=[\n",
    "                          train_features.shape[1]]),\n",
    "    tf.keras.layers.Dense(32, activation=\"relu\"),\n",
    "    tf.keras.layers.Dropout(0.5),\n",
    "    tf.keras.layers.Dense(32, activation=\"relu\"),\n",
    "    tf.keras.layers.Dropout(0.25),\n",
    "    tf.keras.layers.Dense(16, activation=\"sigmoid\"),\n",
    "    tf.keras.layers.Dropout(0.25),\n",
    "    tf.keras.layers.Dense(16, activation=\"sigmoid\"),\n",
    "    tf.keras.layers.Dropout(0.25),\n",
    "    tf.keras.layers.Dense(16, activation=\"sigmoid\"),\n",
    "    tf.keras.layers.Dense(8, activation=\"relu\"),\n",
    "    tf.keras.layers.Dropout(0.25),\n",
    "    tf.keras.layers.Dense(4, activation=\"softmax\"),\n",
    "    tf.keras.layers.Dense(4, activation=\"relu\"),\n",
    "    tf.keras.layers.Dense(1)\n",
    "])\n",
    "\n",
    "# Compile the model\n",
    "model.compile(optimizer=tf.keras.optimizers.Adam(\n",
    "    learning_rate=0.0001), loss=\"mse\", metrics=[\"accuracy\"])\n",
    "\n",
    "# Train the model\n",
    "history = model.fit(train_features, train_labels,\n",
    "                    epochs=100,\n",
    "                    batch_size=16,\n",
    "                    validation_data=(val_features, val_labels)\n",
    "                    )\n",
    "\n",
    "# Evaluate the model on the test data\n",
    "test_loss = model.evaluate(test_features, test_labels)\n",
    "print(\"Test loss:\", test_loss)\n"
   ]
  },
  {
   "cell_type": "code",
   "execution_count": 47,
   "metadata": {},
   "outputs": [
    {
     "name": "stdout",
     "output_type": "stream",
     "text": [
      "Model: \"sequential_7\"\n",
      "_________________________________________________________________\n",
      " Layer (type)                Output Shape              Param #   \n",
      "=================================================================\n",
      " dense_48 (Dense)            (None, 32)                320       \n",
      "                                                                 \n",
      " dense_49 (Dense)            (None, 32)                1056      \n",
      "                                                                 \n",
      " dropout_9 (Dropout)         (None, 32)                0         \n",
      "                                                                 \n",
      " dense_50 (Dense)            (None, 32)                1056      \n",
      "                                                                 \n",
      " dropout_10 (Dropout)        (None, 32)                0         \n",
      "                                                                 \n",
      " dense_51 (Dense)            (None, 16)                528       \n",
      "                                                                 \n",
      " dropout_11 (Dropout)        (None, 16)                0         \n",
      "                                                                 \n",
      " dense_52 (Dense)            (None, 16)                272       \n",
      "                                                                 \n",
      " dropout_12 (Dropout)        (None, 16)                0         \n",
      "                                                                 \n",
      " dense_53 (Dense)            (None, 16)                272       \n",
      "                                                                 \n",
      " dense_54 (Dense)            (None, 8)                 136       \n",
      "                                                                 \n",
      " dropout_13 (Dropout)        (None, 8)                 0         \n",
      "                                                                 \n",
      " dense_55 (Dense)            (None, 4)                 36        \n",
      "                                                                 \n",
      " dense_56 (Dense)            (None, 4)                 20        \n",
      "                                                                 \n",
      " dense_57 (Dense)            (None, 1)                 5         \n",
      "                                                                 \n",
      "=================================================================\n",
      "Total params: 3,701\n",
      "Trainable params: 3,701\n",
      "Non-trainable params: 0\n",
      "_________________________________________________________________\n"
     ]
    }
   ],
   "source": [
    "model.summary()\n"
   ]
  },
  {
   "cell_type": "code",
   "execution_count": 48,
   "metadata": {},
   "outputs": [
    {
     "data": {
      "image/png": "[encoded data removed]",
      "text/plain": [
       "<Figure size 640x480 with 1 Axes>"
      ]
     },
     "metadata": {},
     "output_type": "display_data"
    },
    {
     "data": {
      "image/png": "[encoded data removed]",
      "text/plain": [
       "<Figure size 640x480 with 1 Axes>"
      ]
     },
     "metadata": {},
     "output_type": "display_data"
    }
   ],
   "source": [
    "plt.plot(history.history['accuracy'])\n",
    "plt.plot(history.history['val_accuracy'])\n",
    "plt.title('Model Accuracy')\n",
    "plt.ylabel('Accuracy')\n",
    "plt.xlabel('Epoch')\n",
    "plt.legend(['Train accuracy', 'Test Accuracy'], loc='best')\n",
    "plt.show()\n",
    "# summarize history for loss\n",
    "plt.plot(history.history['loss'])\n",
    "plt.plot(history.history['val_loss'])\n",
    "plt.title('Model Loss')\n",
    "plt.ylabel('Loss')\n",
    "plt.xlabel('Epoch')\n",
    "plt.legend(['Train Loss', 'Test Loss'], loc='best')\n",
    "plt.show()\n"
   ]
  },
  {
   "cell_type": "code",
   "execution_count": null,
   "metadata": {},
   "outputs": [],
   "source": []
  }
 ],
 "metadata": {
  "kernelspec": {
   "display_name": "aiml",
   "language": "python",
   "name": "python3"
  },
  "language_info": {
   "codemirror_mode": {
    "name": "ipython",
    "version": 3
   },
   "file_extension": ".py",
   "mimetype": "text/x-python",
   "name": "python",
   "nbconvert_exporter": "python",
   "pygments_lexer": "ipython3",
   "version": "3.10.6"
  },
  "orig_nbformat": 4
 },
 "nbformat": 4,
 "nbformat_minor": 2
}
